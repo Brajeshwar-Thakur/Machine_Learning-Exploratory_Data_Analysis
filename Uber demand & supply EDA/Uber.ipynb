{
 "cells": [
  {
   "cell_type": "markdown",
   "id": "4d1959b3",
   "metadata": {},
   "source": [
    "# <font face = \"Dongle\" size=7><center> Uber Supply Demand Gap </center></font>"
   ]
  },
  {
   "cell_type": "markdown",
   "id": "7151cf9f",
   "metadata": {},
   "source": [
    "# <font face=\"courier\" size = 6 ><center>Information about the <font color=#34FFB6 > Uber Supply Demand Gap </font > </center></font>"
   ]
  },
  {
   "cell_type": "markdown",
   "id": "d6c038f7",
   "metadata": {},
   "source": [
    "<font face=\"courier\">\n",
    "The aim of analysis is to identify the root cause of the problem (i.e. cancellation and non-availability of cars)<br> and recommend ways to improve the situation. As a result of your analysis, you should be able to present to the<br>\n",
    "    client the root cause(s) and possible hypotheses of the problem(s) and recommend ways to improve them."
   ]
  },
  {
   "cell_type": "code",
   "execution_count": 1,
   "id": "ee2ac143",
   "metadata": {},
   "outputs": [],
   "source": [
    "# data Manipulation libraries\n",
    "import pandas as pd\n",
    "import numpy as np\n",
    "\n",
    "# Data Visualization libraries\n",
    "import seaborn as sns\n",
    "import matplotlib.pyplot as plt\n",
    "\n",
    "plt.style.use('fivethirtyeight')\n",
    "\n",
    "%matplotlib inline\n",
    "import datetime as dt\n",
    "\n",
    "import warnings # this makes sure that warning signs dont pop up for graphs\n",
    "warnings.filterwarnings('ignore')"
   ]
  },
  {
   "cell_type": "code",
   "execution_count": 2,
   "id": "274d242d",
   "metadata": {
    "scrolled": true
   },
   "outputs": [
    {
     "data": {
      "text/html": [
       "<div>\n",
       "<style scoped>\n",
       "    .dataframe tbody tr th:only-of-type {\n",
       "        vertical-align: middle;\n",
       "    }\n",
       "\n",
       "    .dataframe tbody tr th {\n",
       "        vertical-align: top;\n",
       "    }\n",
       "\n",
       "    .dataframe thead th {\n",
       "        text-align: right;\n",
       "    }\n",
       "</style>\n",
       "<table border=\"1\" class=\"dataframe\">\n",
       "  <thead>\n",
       "    <tr style=\"text-align: right;\">\n",
       "      <th></th>\n",
       "      <th>Request id</th>\n",
       "      <th>Pickup point</th>\n",
       "      <th>Driver id</th>\n",
       "      <th>Status</th>\n",
       "      <th>Request timestamp</th>\n",
       "      <th>Drop timestamp</th>\n",
       "    </tr>\n",
       "  </thead>\n",
       "  <tbody>\n",
       "    <tr>\n",
       "      <th>0</th>\n",
       "      <td>619</td>\n",
       "      <td>Airport</td>\n",
       "      <td>1.0</td>\n",
       "      <td>Trip Completed</td>\n",
       "      <td>11/7/2016 11:51</td>\n",
       "      <td>11/7/2016 13:00</td>\n",
       "    </tr>\n",
       "    <tr>\n",
       "      <th>1</th>\n",
       "      <td>867</td>\n",
       "      <td>Airport</td>\n",
       "      <td>1.0</td>\n",
       "      <td>Trip Completed</td>\n",
       "      <td>11/7/2016 17:57</td>\n",
       "      <td>11/7/2016 18:47</td>\n",
       "    </tr>\n",
       "    <tr>\n",
       "      <th>2</th>\n",
       "      <td>1807</td>\n",
       "      <td>City</td>\n",
       "      <td>1.0</td>\n",
       "      <td>Trip Completed</td>\n",
       "      <td>12/7/2016 9:17</td>\n",
       "      <td>12/7/2016 9:58</td>\n",
       "    </tr>\n",
       "    <tr>\n",
       "      <th>3</th>\n",
       "      <td>2532</td>\n",
       "      <td>Airport</td>\n",
       "      <td>1.0</td>\n",
       "      <td>Trip Completed</td>\n",
       "      <td>12/7/2016 21:08</td>\n",
       "      <td>12/7/2016 22:03</td>\n",
       "    </tr>\n",
       "    <tr>\n",
       "      <th>4</th>\n",
       "      <td>3112</td>\n",
       "      <td>City</td>\n",
       "      <td>1.0</td>\n",
       "      <td>Trip Completed</td>\n",
       "      <td>13-07-2016 08:33:16</td>\n",
       "      <td>13-07-2016 09:25:47</td>\n",
       "    </tr>\n",
       "  </tbody>\n",
       "</table>\n",
       "</div>"
      ],
      "text/plain": [
       "   Request id Pickup point  Driver id          Status    Request timestamp  \\\n",
       "0         619      Airport        1.0  Trip Completed      11/7/2016 11:51   \n",
       "1         867      Airport        1.0  Trip Completed      11/7/2016 17:57   \n",
       "2        1807         City        1.0  Trip Completed       12/7/2016 9:17   \n",
       "3        2532      Airport        1.0  Trip Completed      12/7/2016 21:08   \n",
       "4        3112         City        1.0  Trip Completed  13-07-2016 08:33:16   \n",
       "\n",
       "        Drop timestamp  \n",
       "0      11/7/2016 13:00  \n",
       "1      11/7/2016 18:47  \n",
       "2       12/7/2016 9:58  \n",
       "3      12/7/2016 22:03  \n",
       "4  13-07-2016 09:25:47  "
      ]
     },
     "execution_count": 2,
     "metadata": {},
     "output_type": "execute_result"
    }
   ],
   "source": [
    "df = pd.read_csv('Uber Request data.csv')\n",
    "df.head() # first few records/rows of the dataframe"
   ]
  },
  {
   "cell_type": "code",
   "execution_count": 3,
   "id": "9d84533b",
   "metadata": {
    "scrolled": true
   },
   "outputs": [
    {
     "name": "stdout",
     "output_type": "stream",
     "text": [
      "<class 'pandas.core.frame.DataFrame'>\n",
      "RangeIndex: 6745 entries, 0 to 6744\n",
      "Data columns (total 6 columns):\n",
      " #   Column             Non-Null Count  Dtype  \n",
      "---  ------             --------------  -----  \n",
      " 0   Request id         6745 non-null   int64  \n",
      " 1   Pickup point       6745 non-null   object \n",
      " 2   Driver id          4095 non-null   float64\n",
      " 3   Status             6745 non-null   object \n",
      " 4   Request timestamp  6745 non-null   object \n",
      " 5   Drop timestamp     2831 non-null   object \n",
      "dtypes: float64(1), int64(1), object(4)\n",
      "memory usage: 316.3+ KB\n"
     ]
    }
   ],
   "source": [
    "df.info() # information about our data frame like the shape (rows, columns), the data type of our features, and the memory usage"
   ]
  },
  {
   "cell_type": "code",
   "execution_count": 4,
   "id": "2b65ae01",
   "metadata": {
    "scrolled": true
   },
   "outputs": [
    {
     "data": {
      "text/html": [
       "<div>\n",
       "<style scoped>\n",
       "    .dataframe tbody tr th:only-of-type {\n",
       "        vertical-align: middle;\n",
       "    }\n",
       "\n",
       "    .dataframe tbody tr th {\n",
       "        vertical-align: top;\n",
       "    }\n",
       "\n",
       "    .dataframe thead th {\n",
       "        text-align: right;\n",
       "    }\n",
       "</style>\n",
       "<table border=\"1\" class=\"dataframe\">\n",
       "  <thead>\n",
       "    <tr style=\"text-align: right;\">\n",
       "      <th></th>\n",
       "      <th>Request id</th>\n",
       "      <th>Driver id</th>\n",
       "    </tr>\n",
       "  </thead>\n",
       "  <tbody>\n",
       "    <tr>\n",
       "      <th>count</th>\n",
       "      <td>6745.000000</td>\n",
       "      <td>4095.000000</td>\n",
       "    </tr>\n",
       "    <tr>\n",
       "      <th>mean</th>\n",
       "      <td>3384.644922</td>\n",
       "      <td>149.501343</td>\n",
       "    </tr>\n",
       "    <tr>\n",
       "      <th>std</th>\n",
       "      <td>1955.099667</td>\n",
       "      <td>86.051994</td>\n",
       "    </tr>\n",
       "    <tr>\n",
       "      <th>min</th>\n",
       "      <td>1.000000</td>\n",
       "      <td>1.000000</td>\n",
       "    </tr>\n",
       "    <tr>\n",
       "      <th>25%</th>\n",
       "      <td>1691.000000</td>\n",
       "      <td>75.000000</td>\n",
       "    </tr>\n",
       "    <tr>\n",
       "      <th>50%</th>\n",
       "      <td>3387.000000</td>\n",
       "      <td>149.000000</td>\n",
       "    </tr>\n",
       "    <tr>\n",
       "      <th>75%</th>\n",
       "      <td>5080.000000</td>\n",
       "      <td>224.000000</td>\n",
       "    </tr>\n",
       "    <tr>\n",
       "      <th>max</th>\n",
       "      <td>6766.000000</td>\n",
       "      <td>300.000000</td>\n",
       "    </tr>\n",
       "  </tbody>\n",
       "</table>\n",
       "</div>"
      ],
      "text/plain": [
       "        Request id    Driver id\n",
       "count  6745.000000  4095.000000\n",
       "mean   3384.644922   149.501343\n",
       "std    1955.099667    86.051994\n",
       "min       1.000000     1.000000\n",
       "25%    1691.000000    75.000000\n",
       "50%    3387.000000   149.000000\n",
       "75%    5080.000000   224.000000\n",
       "max    6766.000000   300.000000"
      ]
     },
     "execution_count": 4,
     "metadata": {},
     "output_type": "execute_result"
    }
   ],
   "source": [
    "df.describe() # Summary statistics"
   ]
  },
  {
   "cell_type": "markdown",
   "id": "9a2887e7",
   "metadata": {},
   "source": [
    "# <font face=\"courier\" size = 6 ><center>Data <font color=#39ff14 >Cleaning </font > </center></font>\n",
    "<font face=\"courier\">\n",
    "1. Date-Time format conversion<br>\n",
    "2. Removing(driver IDs ,request IDs) all the completed rides as they are of no use as we're analysing the cancellation/non availibility"
   ]
  },
  {
   "cell_type": "markdown",
   "id": "26575b21",
   "metadata": {},
   "source": [
    "### <font face=\"courier\"> conversion to <font color=#34FFB6 >date-time </font > </font>"
   ]
  },
  {
   "cell_type": "code",
   "execution_count": 5,
   "id": "89616255",
   "metadata": {},
   "outputs": [
    {
     "data": {
      "text/plain": [
       "0      2016-07-11 11:51:00\n",
       "1      2016-07-11 17:57:00\n",
       "2      2016-07-12 09:17:00\n",
       "3      2016-07-12 21:08:00\n",
       "4      2016-07-13 08:33:16\n",
       "               ...        \n",
       "6740   2016-07-15 23:49:03\n",
       "6741   2016-07-15 23:50:05\n",
       "6742   2016-07-15 23:52:06\n",
       "6743   2016-07-15 23:54:39\n",
       "6744   2016-07-15 23:55:03\n",
       "Name: Request timestamp, Length: 6745, dtype: datetime64[ns]"
      ]
     },
     "execution_count": 5,
     "metadata": {},
     "output_type": "execute_result"
    }
   ],
   "source": [
    "df['Request timestamp'] = pd.to_datetime(df['Request timestamp'], dayfirst = True)\n",
    "df['Request timestamp']"
   ]
  },
  {
   "cell_type": "code",
   "execution_count": 6,
   "id": "7554a32c",
   "metadata": {},
   "outputs": [
    {
     "data": {
      "text/plain": [
       "0      2016-07-11 13:00:00\n",
       "1      2016-07-11 18:47:00\n",
       "2      2016-07-12 09:58:00\n",
       "3      2016-07-12 22:03:00\n",
       "4      2016-07-13 09:25:47\n",
       "               ...        \n",
       "6740                   NaT\n",
       "6741                   NaT\n",
       "6742                   NaT\n",
       "6743                   NaT\n",
       "6744                   NaT\n",
       "Name: Drop timestamp, Length: 6745, dtype: datetime64[ns]"
      ]
     },
     "execution_count": 6,
     "metadata": {},
     "output_type": "execute_result"
    }
   ],
   "source": [
    "df['Drop timestamp'] = pd.to_datetime(df['Drop timestamp'], dayfirst = True)\n",
    "df['Drop timestamp']"
   ]
  },
  {
   "cell_type": "markdown",
   "id": "ecf171e4",
   "metadata": {},
   "source": [
    "### <font face=\"courier\"> <font color=#34FFB6 >cleaning </font >data </font>"
   ]
  },
  {
   "cell_type": "code",
   "execution_count": 7,
   "id": "7786e9c4",
   "metadata": {
    "scrolled": true
   },
   "outputs": [
    {
     "data": {
      "text/html": [
       "<div>\n",
       "<style scoped>\n",
       "    .dataframe tbody tr th:only-of-type {\n",
       "        vertical-align: middle;\n",
       "    }\n",
       "\n",
       "    .dataframe tbody tr th {\n",
       "        vertical-align: top;\n",
       "    }\n",
       "\n",
       "    .dataframe thead th {\n",
       "        text-align: right;\n",
       "    }\n",
       "</style>\n",
       "<table border=\"1\" class=\"dataframe\">\n",
       "  <thead>\n",
       "    <tr style=\"text-align: right;\">\n",
       "      <th></th>\n",
       "      <th>Request id</th>\n",
       "      <th>Pickup point</th>\n",
       "      <th>Driver id</th>\n",
       "      <th>Status</th>\n",
       "      <th>Request timestamp</th>\n",
       "      <th>Drop timestamp</th>\n",
       "    </tr>\n",
       "  </thead>\n",
       "  <tbody>\n",
       "    <tr>\n",
       "      <th>0</th>\n",
       "      <td>619</td>\n",
       "      <td>Airport</td>\n",
       "      <td>1.0</td>\n",
       "      <td>Trip Completed</td>\n",
       "      <td>2016-07-11 11:51:00</td>\n",
       "      <td>2016-07-11 13:00:00</td>\n",
       "    </tr>\n",
       "    <tr>\n",
       "      <th>1</th>\n",
       "      <td>867</td>\n",
       "      <td>Airport</td>\n",
       "      <td>1.0</td>\n",
       "      <td>Trip Completed</td>\n",
       "      <td>2016-07-11 17:57:00</td>\n",
       "      <td>2016-07-11 18:47:00</td>\n",
       "    </tr>\n",
       "    <tr>\n",
       "      <th>2</th>\n",
       "      <td>1807</td>\n",
       "      <td>City</td>\n",
       "      <td>1.0</td>\n",
       "      <td>Trip Completed</td>\n",
       "      <td>2016-07-12 09:17:00</td>\n",
       "      <td>2016-07-12 09:58:00</td>\n",
       "    </tr>\n",
       "    <tr>\n",
       "      <th>3</th>\n",
       "      <td>2532</td>\n",
       "      <td>Airport</td>\n",
       "      <td>1.0</td>\n",
       "      <td>Trip Completed</td>\n",
       "      <td>2016-07-12 21:08:00</td>\n",
       "      <td>2016-07-12 22:03:00</td>\n",
       "    </tr>\n",
       "    <tr>\n",
       "      <th>4</th>\n",
       "      <td>3112</td>\n",
       "      <td>City</td>\n",
       "      <td>1.0</td>\n",
       "      <td>Trip Completed</td>\n",
       "      <td>2016-07-13 08:33:16</td>\n",
       "      <td>2016-07-13 09:25:47</td>\n",
       "    </tr>\n",
       "    <tr>\n",
       "      <th>...</th>\n",
       "      <td>...</td>\n",
       "      <td>...</td>\n",
       "      <td>...</td>\n",
       "      <td>...</td>\n",
       "      <td>...</td>\n",
       "      <td>...</td>\n",
       "    </tr>\n",
       "    <tr>\n",
       "      <th>6740</th>\n",
       "      <td>6745</td>\n",
       "      <td>City</td>\n",
       "      <td>NaN</td>\n",
       "      <td>No Cars Available</td>\n",
       "      <td>2016-07-15 23:49:03</td>\n",
       "      <td>NaT</td>\n",
       "    </tr>\n",
       "    <tr>\n",
       "      <th>6741</th>\n",
       "      <td>6752</td>\n",
       "      <td>Airport</td>\n",
       "      <td>NaN</td>\n",
       "      <td>No Cars Available</td>\n",
       "      <td>2016-07-15 23:50:05</td>\n",
       "      <td>NaT</td>\n",
       "    </tr>\n",
       "    <tr>\n",
       "      <th>6742</th>\n",
       "      <td>6751</td>\n",
       "      <td>City</td>\n",
       "      <td>NaN</td>\n",
       "      <td>No Cars Available</td>\n",
       "      <td>2016-07-15 23:52:06</td>\n",
       "      <td>NaT</td>\n",
       "    </tr>\n",
       "    <tr>\n",
       "      <th>6743</th>\n",
       "      <td>6754</td>\n",
       "      <td>City</td>\n",
       "      <td>NaN</td>\n",
       "      <td>No Cars Available</td>\n",
       "      <td>2016-07-15 23:54:39</td>\n",
       "      <td>NaT</td>\n",
       "    </tr>\n",
       "    <tr>\n",
       "      <th>6744</th>\n",
       "      <td>6753</td>\n",
       "      <td>Airport</td>\n",
       "      <td>NaN</td>\n",
       "      <td>No Cars Available</td>\n",
       "      <td>2016-07-15 23:55:03</td>\n",
       "      <td>NaT</td>\n",
       "    </tr>\n",
       "  </tbody>\n",
       "</table>\n",
       "<p>6745 rows × 6 columns</p>\n",
       "</div>"
      ],
      "text/plain": [
       "      Request id Pickup point  Driver id             Status  \\\n",
       "0            619      Airport        1.0     Trip Completed   \n",
       "1            867      Airport        1.0     Trip Completed   \n",
       "2           1807         City        1.0     Trip Completed   \n",
       "3           2532      Airport        1.0     Trip Completed   \n",
       "4           3112         City        1.0     Trip Completed   \n",
       "...          ...          ...        ...                ...   \n",
       "6740        6745         City        NaN  No Cars Available   \n",
       "6741        6752      Airport        NaN  No Cars Available   \n",
       "6742        6751         City        NaN  No Cars Available   \n",
       "6743        6754         City        NaN  No Cars Available   \n",
       "6744        6753      Airport        NaN  No Cars Available   \n",
       "\n",
       "       Request timestamp      Drop timestamp  \n",
       "0    2016-07-11 11:51:00 2016-07-11 13:00:00  \n",
       "1    2016-07-11 17:57:00 2016-07-11 18:47:00  \n",
       "2    2016-07-12 09:17:00 2016-07-12 09:58:00  \n",
       "3    2016-07-12 21:08:00 2016-07-12 22:03:00  \n",
       "4    2016-07-13 08:33:16 2016-07-13 09:25:47  \n",
       "...                  ...                 ...  \n",
       "6740 2016-07-15 23:49:03                 NaT  \n",
       "6741 2016-07-15 23:50:05                 NaT  \n",
       "6742 2016-07-15 23:52:06                 NaT  \n",
       "6743 2016-07-15 23:54:39                 NaT  \n",
       "6744 2016-07-15 23:55:03                 NaT  \n",
       "\n",
       "[6745 rows x 6 columns]"
      ]
     },
     "execution_count": 7,
     "metadata": {},
     "output_type": "execute_result"
    }
   ],
   "source": [
    "df"
   ]
  },
  {
   "cell_type": "markdown",
   "id": "2e3237e0",
   "metadata": {},
   "source": [
    "#### Percentage missing"
   ]
  },
  {
   "cell_type": "code",
   "execution_count": 8,
   "id": "2d1e52b4",
   "metadata": {},
   "outputs": [
    {
     "name": "stdout",
     "output_type": "stream",
     "text": [
      "Driver id => 39.29%\n",
      "Drop timestamp => 58.03%\n"
     ]
    }
   ],
   "source": [
    "def perc_missing(df):\n",
    "    '''prints out columns with missing values with its %'''\n",
    "    for col in df.columns:\n",
    "        pct = df[col].isna().mean() * 100\n",
    "        if (pct != 0):\n",
    "            print('{} => {}%'.format(col, round(pct, 2)))\n",
    "    \n",
    "perc_missing(df)"
   ]
  },
  {
   "cell_type": "code",
   "execution_count": 9,
   "id": "81fab0f1",
   "metadata": {},
   "outputs": [
    {
     "data": {
      "text/plain": [
       "(<AxesSubplot:>,)"
      ]
     },
     "execution_count": 9,
     "metadata": {},
     "output_type": "execute_result"
    },
    {
     "data": {
      "image/png": "[encoded data removed]",
      "text/plain": [
       "<Figure size 936x720 with 2 Axes>"
      ]
     },
     "metadata": {
      "needs_background": "light"
     },
     "output_type": "display_data"
    }
   ],
   "source": [
    "plt.figure(figsize=(13, 10))\n",
    "sns.heatmap(df.isnull() , cmap='viridis', cbar=True), # to visualize the missing values"
   ]
  },
  {
   "cell_type": "code",
   "execution_count": 10,
   "id": "9b082d2c",
   "metadata": {
    "scrolled": true
   },
   "outputs": [
    {
     "data": {
      "text/html": [
       "<div>\n",
       "<style scoped>\n",
       "    .dataframe tbody tr th:only-of-type {\n",
       "        vertical-align: middle;\n",
       "    }\n",
       "\n",
       "    .dataframe tbody tr th {\n",
       "        vertical-align: top;\n",
       "    }\n",
       "\n",
       "    .dataframe thead th {\n",
       "        text-align: right;\n",
       "    }\n",
       "</style>\n",
       "<table border=\"1\" class=\"dataframe\">\n",
       "  <thead>\n",
       "    <tr style=\"text-align: right;\">\n",
       "      <th></th>\n",
       "      <th>Pickup point</th>\n",
       "      <th>Status</th>\n",
       "      <th>Request timestamp</th>\n",
       "    </tr>\n",
       "  </thead>\n",
       "  <tbody>\n",
       "    <tr>\n",
       "      <th>0</th>\n",
       "      <td>Airport</td>\n",
       "      <td>Trip Completed</td>\n",
       "      <td>2016-07-11 11:51:00</td>\n",
       "    </tr>\n",
       "    <tr>\n",
       "      <th>1</th>\n",
       "      <td>Airport</td>\n",
       "      <td>Trip Completed</td>\n",
       "      <td>2016-07-11 17:57:00</td>\n",
       "    </tr>\n",
       "    <tr>\n",
       "      <th>2</th>\n",
       "      <td>City</td>\n",
       "      <td>Trip Completed</td>\n",
       "      <td>2016-07-12 09:17:00</td>\n",
       "    </tr>\n",
       "    <tr>\n",
       "      <th>3</th>\n",
       "      <td>Airport</td>\n",
       "      <td>Trip Completed</td>\n",
       "      <td>2016-07-12 21:08:00</td>\n",
       "    </tr>\n",
       "    <tr>\n",
       "      <th>4</th>\n",
       "      <td>City</td>\n",
       "      <td>Trip Completed</td>\n",
       "      <td>2016-07-13 08:33:16</td>\n",
       "    </tr>\n",
       "  </tbody>\n",
       "</table>\n",
       "</div>"
      ],
      "text/plain": [
       "  Pickup point          Status   Request timestamp\n",
       "0      Airport  Trip Completed 2016-07-11 11:51:00\n",
       "1      Airport  Trip Completed 2016-07-11 17:57:00\n",
       "2         City  Trip Completed 2016-07-12 09:17:00\n",
       "3      Airport  Trip Completed 2016-07-12 21:08:00\n",
       "4         City  Trip Completed 2016-07-13 08:33:16"
      ]
     },
     "execution_count": 10,
     "metadata": {},
     "output_type": "execute_result"
    }
   ],
   "source": [
    "# deal with missing values by dropping the feature\n",
    "df = df.drop(['Request id','Driver id','Drop timestamp'] ,axis = 1)\n",
    "df.head()"
   ]
  },
  {
   "cell_type": "markdown",
   "id": "b03ba1f2",
   "metadata": {},
   "source": [
    "## <center><font face=\"courier\"> <font color=#34FFB6 >Feature Engineering"
   ]
  },
  {
   "cell_type": "code",
   "execution_count": 11,
   "id": "1d8da109",
   "metadata": {},
   "outputs": [
    {
     "data": {
      "text/html": [
       "<div>\n",
       "<style scoped>\n",
       "    .dataframe tbody tr th:only-of-type {\n",
       "        vertical-align: middle;\n",
       "    }\n",
       "\n",
       "    .dataframe tbody tr th {\n",
       "        vertical-align: top;\n",
       "    }\n",
       "\n",
       "    .dataframe thead th {\n",
       "        text-align: right;\n",
       "    }\n",
       "</style>\n",
       "<table border=\"1\" class=\"dataframe\">\n",
       "  <thead>\n",
       "    <tr style=\"text-align: right;\">\n",
       "      <th></th>\n",
       "      <th>Pickup point</th>\n",
       "      <th>Status</th>\n",
       "      <th>Request timestamp</th>\n",
       "      <th>rqst_Date</th>\n",
       "      <th>rqst_Time</th>\n",
       "    </tr>\n",
       "  </thead>\n",
       "  <tbody>\n",
       "    <tr>\n",
       "      <th>0</th>\n",
       "      <td>Airport</td>\n",
       "      <td>Trip Completed</td>\n",
       "      <td>2016-07-11 11:51:00</td>\n",
       "      <td>2016-07-11</td>\n",
       "      <td>11</td>\n",
       "    </tr>\n",
       "    <tr>\n",
       "      <th>1</th>\n",
       "      <td>Airport</td>\n",
       "      <td>Trip Completed</td>\n",
       "      <td>2016-07-11 17:57:00</td>\n",
       "      <td>2016-07-11</td>\n",
       "      <td>17</td>\n",
       "    </tr>\n",
       "    <tr>\n",
       "      <th>2</th>\n",
       "      <td>City</td>\n",
       "      <td>Trip Completed</td>\n",
       "      <td>2016-07-12 09:17:00</td>\n",
       "      <td>2016-07-12</td>\n",
       "      <td>9</td>\n",
       "    </tr>\n",
       "    <tr>\n",
       "      <th>3</th>\n",
       "      <td>Airport</td>\n",
       "      <td>Trip Completed</td>\n",
       "      <td>2016-07-12 21:08:00</td>\n",
       "      <td>2016-07-12</td>\n",
       "      <td>21</td>\n",
       "    </tr>\n",
       "    <tr>\n",
       "      <th>4</th>\n",
       "      <td>City</td>\n",
       "      <td>Trip Completed</td>\n",
       "      <td>2016-07-13 08:33:16</td>\n",
       "      <td>2016-07-13</td>\n",
       "      <td>8</td>\n",
       "    </tr>\n",
       "  </tbody>\n",
       "</table>\n",
       "</div>"
      ],
      "text/plain": [
       "  Pickup point          Status   Request timestamp   rqst_Date  rqst_Time\n",
       "0      Airport  Trip Completed 2016-07-11 11:51:00  2016-07-11         11\n",
       "1      Airport  Trip Completed 2016-07-11 17:57:00  2016-07-11         17\n",
       "2         City  Trip Completed 2016-07-12 09:17:00  2016-07-12          9\n",
       "3      Airport  Trip Completed 2016-07-12 21:08:00  2016-07-12         21\n",
       "4         City  Trip Completed 2016-07-13 08:33:16  2016-07-13          8"
      ]
     },
     "execution_count": 11,
     "metadata": {},
     "output_type": "execute_result"
    }
   ],
   "source": [
    "# here we generate 2 new features out of 'Request timestamp' feature\n",
    "df['rqst_Date'] = df['Request timestamp'].dt.date # this signifies the date\n",
    "df['rqst_Time'] = df['Request timestamp'].dt.hour # this signifies the time in hours \n",
    "df.head()"
   ]
  },
  {
   "cell_type": "markdown",
   "id": "6b56295c",
   "metadata": {},
   "source": [
    "## <center><font face=\"courier\"> <font color=#34FFB6 >Analysis"
   ]
  },
  {
   "cell_type": "code",
   "execution_count": 12,
   "id": "387ec7f0",
   "metadata": {},
   "outputs": [
    {
     "data": {
      "text/plain": [
       "<function matplotlib.pyplot.show(close=None, block=None)>"
      ]
     },
     "execution_count": 12,
     "metadata": {},
     "output_type": "execute_result"
    },
    {
     "data": {
      "image/png": "[encoded data removed]",
      "text/plain": [
       "<Figure size 432x288 with 1 Axes>"
      ]
     },
     "metadata": {
      "needs_background": "light"
     },
     "output_type": "display_data"
    }
   ],
   "source": [
    "#Univariate analysis on Status column \n",
    "sns.countplot(df[\"Status\"],order=['Cancelled','No Cars Available','Trip Completed']),\n",
    "plt.show"
   ]
  },
  {
   "cell_type": "code",
   "execution_count": 13,
   "id": "6d56d578",
   "metadata": {},
   "outputs": [
    {
     "data": {
      "text/html": [
       "<div>\n",
       "<style scoped>\n",
       "    .dataframe tbody tr th:only-of-type {\n",
       "        vertical-align: middle;\n",
       "    }\n",
       "\n",
       "    .dataframe tbody tr th {\n",
       "        vertical-align: top;\n",
       "    }\n",
       "\n",
       "    .dataframe thead th {\n",
       "        text-align: right;\n",
       "    }\n",
       "</style>\n",
       "<table border=\"1\" class=\"dataframe\">\n",
       "  <thead>\n",
       "    <tr style=\"text-align: right;\">\n",
       "      <th></th>\n",
       "      <th>Pickup point</th>\n",
       "      <th>Status</th>\n",
       "      <th>Request timestamp</th>\n",
       "      <th>rqst_Date</th>\n",
       "      <th>rqst_Time</th>\n",
       "    </tr>\n",
       "  </thead>\n",
       "  <tbody>\n",
       "    <tr>\n",
       "      <th>0</th>\n",
       "      <td>Airport</td>\n",
       "      <td>Trip Completed</td>\n",
       "      <td>2016-07-11 11:51:00</td>\n",
       "      <td>2016-07-11</td>\n",
       "      <td>Afternoon</td>\n",
       "    </tr>\n",
       "    <tr>\n",
       "      <th>1</th>\n",
       "      <td>Airport</td>\n",
       "      <td>Trip Completed</td>\n",
       "      <td>2016-07-11 17:57:00</td>\n",
       "      <td>2016-07-11</td>\n",
       "      <td>Evening</td>\n",
       "    </tr>\n",
       "    <tr>\n",
       "      <th>2</th>\n",
       "      <td>City</td>\n",
       "      <td>Trip Completed</td>\n",
       "      <td>2016-07-12 09:17:00</td>\n",
       "      <td>2016-07-12</td>\n",
       "      <td>Morning</td>\n",
       "    </tr>\n",
       "    <tr>\n",
       "      <th>3</th>\n",
       "      <td>Airport</td>\n",
       "      <td>Trip Completed</td>\n",
       "      <td>2016-07-12 21:08:00</td>\n",
       "      <td>2016-07-12</td>\n",
       "      <td>Night</td>\n",
       "    </tr>\n",
       "    <tr>\n",
       "      <th>4</th>\n",
       "      <td>City</td>\n",
       "      <td>Trip Completed</td>\n",
       "      <td>2016-07-13 08:33:16</td>\n",
       "      <td>2016-07-13</td>\n",
       "      <td>Morning</td>\n",
       "    </tr>\n",
       "  </tbody>\n",
       "</table>\n",
       "</div>"
      ],
      "text/plain": [
       "  Pickup point          Status   Request timestamp   rqst_Date  rqst_Time\n",
       "0      Airport  Trip Completed 2016-07-11 11:51:00  2016-07-11  Afternoon\n",
       "1      Airport  Trip Completed 2016-07-11 17:57:00  2016-07-11    Evening\n",
       "2         City  Trip Completed 2016-07-12 09:17:00  2016-07-12    Morning\n",
       "3      Airport  Trip Completed 2016-07-12 21:08:00  2016-07-12      Night\n",
       "4         City  Trip Completed 2016-07-13 08:33:16  2016-07-13    Morning"
      ]
     },
     "execution_count": 13,
     "metadata": {},
     "output_type": "execute_result"
    }
   ],
   "source": [
    "def time_stamps(x) :\n",
    "#     if(x>=4 and x<=6) :\n",
    "#         return \"Early Morning\" \n",
    "    if(x>=4 and x<=9) :\n",
    "        return \"Morning\" \n",
    "    if(x>=10 and x<=16) :\n",
    "        return \"Afternoon\" \n",
    "    if(x>=15 and x<=19) :\n",
    "        return \"Evening\" \n",
    "    if((x>=20 and x<=24)or(x==0)) :\n",
    "        return \"Night\" \n",
    "    \n",
    "df['rqst_Time'] = df['rqst_Time'].apply(lambda x:time_stamps(x))\n",
    "df.head()"
   ]
  },
  {
   "cell_type": "code",
   "execution_count": 14,
   "id": "d6d205e8",
   "metadata": {},
   "outputs": [
    {
     "data": {
      "image/png": "[encoded data removed]",
      "text/plain": [
       "<Figure size 432x288 with 1 Axes>"
      ]
     },
     "metadata": {
      "needs_background": "light"
     },
     "output_type": "display_data"
    }
   ],
   "source": [
    "# Visualizing RequestTimeSlot along with the status\n",
    "sns.countplot(x=df['rqst_Time'],hue=df['Status'],order=[\"Morning\",\"Afternoon\",\"Evening\",\"Night\"])\n",
    "plt.show()"
   ]
  },
  {
   "cell_type": "code",
   "execution_count": 15,
   "id": "770ab3be",
   "metadata": {
    "scrolled": true
   },
   "outputs": [
    {
     "data": {
      "image/png": "[encoded data removed]",
      "text/plain": [
       "<Figure size 504x360 with 1 Axes>"
      ]
     },
     "metadata": {},
     "output_type": "display_data"
    }
   ],
   "source": [
    "plt.figure(num=None, figsize=(7, 5), facecolor='w', edgecolor='k')\n",
    "sns.countplot(x='Pickup point', hue=\"rqst_Time\", data=df)\n",
    "plt.show()"
   ]
  },
  {
   "cell_type": "code",
   "execution_count": 16,
   "id": "5fdace5e",
   "metadata": {},
   "outputs": [],
   "source": [
    "df.loc[(df.Status == 'Trip Completed') | (df.Status == 'Cancelled')| (df.Status == 'No Cars Available'), 'demand'] = 'Demand'\n",
    "df.loc[(df.Status == 'Trip Completed'), 'supply'] = 'Supply'\n",
    "df.loc[(df.Status == 'Cancelled')| (df.Status == 'No Cars Available'), 'gap'] = 'Gap' \n"
   ]
  },
  {
   "cell_type": "code",
   "execution_count": 17,
   "id": "567a317c",
   "metadata": {},
   "outputs": [
    {
     "data": {
      "text/plain": [
       "<Figure size 648x216 with 0 Axes>"
      ]
     },
     "metadata": {},
     "output_type": "display_data"
    },
    {
     "data": {
      "image/png": "[encoded data removed]",
      "text/plain": [
       "<Figure size 416.125x1440 with 2 Axes>"
      ]
     },
     "metadata": {
      "needs_background": "light"
     },
     "output_type": "display_data"
    }
   ],
   "source": [
    "plt.figure(num=None, figsize=(9,3), facecolor='w', edgecolor='k')\n",
    "sns.catplot(x='rqst_Time',col=\"Pickup point\", hue = 'gap',data=df ,kind=\"count\", height=10,aspect= 0.5,\n",
    "            ci=85,col_wrap=1,palette=sns.color_palette(['#34FFB6']))\n",
    "plt.show()"
   ]
  },
  {
   "cell_type": "markdown",
   "id": "fbf6f567",
   "metadata": {},
   "source": [
    "## <center><font face=\"courier\"> <font color=#34FFB6 >Obserations<br>\n",
    "<font face=\"courier\">\n",
    "1.During the evening and night shift the demand from customers shoots up but due to no cars available there is<br>\n",
    "   &ensp;   loss of revenue.Though there is high demand for cabs from airport to city, the vice versa is not true.<br>\n",
    "   &ensp;   Hence 'no cars available' in the airport is the hightest in the evening <br>  \n",
    "   &ensp;   Reason behind No Cars Available could be due to not enough cars are available as cars might not be in <br>\n",
    "   &ensp;   the airport area due they are in the city and some of the drivers might have gone to home<br>\n",
    "    \n",
    "2.During the early morning and morning shift the demand from customers again shoots up but due to cancellation    <br>    &ensp;  there is loss of revneue, there is high demand for cabs from airport to city, the vice versa is not <br>\n",
    "   &ensp;  true. Hence the driver tends to 'cancel' the request as getting a return trip from airport to city <br>\n",
    "   &ensp;  would be difficult.\n",
    "    \n",
    "To solve these issues a new shift in the evening and night can be done and incentivising the cab drivers that <br>\n",
    "take up the morning requests should be done"
   ]
  },
  {
   "cell_type": "code",
   "execution_count": null,
   "id": "7a3f1573",
   "metadata": {},
   "outputs": [],
   "source": []
  }
 ],
 "metadata": {
  "kernelspec": {
   "display_name": "Python 3 (ipykernel)",
   "language": "python",
   "name": "python3"
  },
  "language_info": {
   "codemirror_mode": {
    "name": "ipython",
    "version": 3
   },
   "file_extension": ".py",
   "mimetype": "text/x-python",
   "name": "python",
   "nbconvert_exporter": "python",
   "pygments_lexer": "ipython3",
   "version": "3.9.7"
  }
 },
 "nbformat": 4,
 "nbformat_minor": 5
}
